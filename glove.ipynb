{
  "nbformat": 4,
  "nbformat_minor": 0,
  "metadata": {
    "colab": {
      "name": "glove.ipynb",
      "provenance": [],
      "include_colab_link": true
    },
    "kernelspec": {
      "name": "python3",
      "display_name": "Python 3"
    }
  },
  "cells": [
    {
      "cell_type": "markdown",
      "metadata": {
        "id": "view-in-github",
        "colab_type": "text"
      },
      "source": [
        "<a href=\"https://colab.research.google.com/github/ufrpe-mineracao-textos/projeto-de-mineracao-20192-rockboyz/blob/master/glove.ipynb\" target=\"_parent\"><img src=\"https://colab.research.google.com/assets/colab-badge.svg\" alt=\"Open In Colab\"/></a>"
      ]
    },
    {
      "cell_type": "code",
      "metadata": {
        "id": "ol28009Vvzp1",
        "colab_type": "code",
        "outputId": "0fb7c4b9-968d-4bc1-c77d-ba62caf84d79",
        "colab": {
          "base_uri": "https://localhost:8080/",
          "height": 136
        }
      },
      "source": [
        "!git clone https://github.com/ufrpe-mineracao-textos/projeto-de-mineracao-20192-rockboyz.git"
      ],
      "execution_count": 0,
      "outputs": [
        {
          "output_type": "stream",
          "text": [
            "Cloning into 'projeto-de-mineracao-20192-rockboyz'...\n",
            "remote: Enumerating objects: 48, done.\u001b[K\n",
            "remote: Counting objects: 100% (48/48), done.\u001b[K\n",
            "remote: Compressing objects: 100% (38/38), done.\u001b[K\n",
            "remote: Total 249 (delta 22), reused 26 (delta 9), pack-reused 201\n",
            "Receiving objects: 100% (249/249), 3.77 MiB | 3.51 MiB/s, done.\n",
            "Resolving deltas: 100% (32/32), done.\n"
          ],
          "name": "stdout"
        }
      ]
    },
    {
      "cell_type": "code",
      "metadata": {
        "id": "D8khY5Jj1XYT",
        "colab_type": "code",
        "outputId": "ff17967f-3266-4ec1-a98a-fe1f47a0115a",
        "colab": {
          "base_uri": "https://localhost:8080/",
          "height": 34
        }
      },
      "source": [
        "!cd /content/projeto-de-mineracao-20192-rockboyz && git pull"
      ],
      "execution_count": 0,
      "outputs": [
        {
          "output_type": "stream",
          "text": [
            "Already up to date.\n"
          ],
          "name": "stdout"
        }
      ]
    },
    {
      "cell_type": "code",
      "metadata": {
        "id": "eR5zrXyI30mO",
        "colab_type": "code",
        "colab": {
          "base_uri": "https://localhost:8080/",
          "height": 241
        },
        "outputId": "6717600a-fc7f-4ed3-89f7-b915ff22889d"
      },
      "source": [
        "!pip install glove_python"
      ],
      "execution_count": 4,
      "outputs": [
        {
          "output_type": "stream",
          "text": [
            "Collecting glove_python\n",
            "\u001b[?25l  Downloading https://files.pythonhosted.org/packages/3e/79/7e7e548dd9dcb741935d031117f4bed133276c2a047aadad42f1552d1771/glove_python-0.1.0.tar.gz (263kB)\n",
            "\r\u001b[K     |█▎                              | 10kB 17.2MB/s eta 0:00:01\r\u001b[K     |██▌                             | 20kB 1.8MB/s eta 0:00:01\r\u001b[K     |███▊                            | 30kB 2.6MB/s eta 0:00:01\r\u001b[K     |█████                           | 40kB 1.7MB/s eta 0:00:01\r\u001b[K     |██████▎                         | 51kB 2.1MB/s eta 0:00:01\r\u001b[K     |███████▌                        | 61kB 2.5MB/s eta 0:00:01\r\u001b[K     |████████▊                       | 71kB 2.9MB/s eta 0:00:01\r\u001b[K     |██████████                      | 81kB 3.3MB/s eta 0:00:01\r\u001b[K     |███████████▏                    | 92kB 3.7MB/s eta 0:00:01\r\u001b[K     |████████████▌                   | 102kB 2.8MB/s eta 0:00:01\r\u001b[K     |█████████████▊                  | 112kB 2.8MB/s eta 0:00:01\r\u001b[K     |███████████████                 | 122kB 2.8MB/s eta 0:00:01\r\u001b[K     |████████████████▏               | 133kB 2.8MB/s eta 0:00:01\r\u001b[K     |█████████████████▍              | 143kB 2.8MB/s eta 0:00:01\r\u001b[K     |██████████████████▊             | 153kB 2.8MB/s eta 0:00:01\r\u001b[K     |████████████████████            | 163kB 2.8MB/s eta 0:00:01\r\u001b[K     |█████████████████████▏          | 174kB 2.8MB/s eta 0:00:01\r\u001b[K     |██████████████████████▍         | 184kB 2.8MB/s eta 0:00:01\r\u001b[K     |███████████████████████▋        | 194kB 2.8MB/s eta 0:00:01\r\u001b[K     |█████████████████████████       | 204kB 2.8MB/s eta 0:00:01\r\u001b[K     |██████████████████████████▏     | 215kB 2.8MB/s eta 0:00:01\r\u001b[K     |███████████████████████████▍    | 225kB 2.8MB/s eta 0:00:01\r\u001b[K     |████████████████████████████▋   | 235kB 2.8MB/s eta 0:00:01\r\u001b[K     |█████████████████████████████▉  | 245kB 2.8MB/s eta 0:00:01\r\u001b[K     |███████████████████████████████▏| 256kB 2.8MB/s eta 0:00:01\r\u001b[K     |████████████████████████████████| 266kB 2.8MB/s \n",
            "\u001b[?25hRequirement already satisfied: numpy in /usr/local/lib/python3.6/dist-packages (from glove_python) (1.16.5)\n",
            "Requirement already satisfied: scipy in /usr/local/lib/python3.6/dist-packages (from glove_python) (1.3.1)\n",
            "Building wheels for collected packages: glove-python\n",
            "  Building wheel for glove-python (setup.py) ... \u001b[?25l\u001b[?25hdone\n",
            "  Created wheel for glove-python: filename=glove_python-0.1.0-cp36-cp36m-linux_x86_64.whl size=700343 sha256=7270e5efa4c0224301109dc760347ec89d29d41eb83800bba549f70edf3c4efa\n",
            "  Stored in directory: /root/.cache/pip/wheels/88/4b/6d/10c0d2ad32c9d9d68beec9694a6f0b6e83ab1662a90a089a4b\n",
            "Successfully built glove-python\n",
            "Installing collected packages: glove-python\n",
            "Successfully installed glove-python-0.1.0\n"
          ],
          "name": "stdout"
        }
      ]
    },
    {
      "cell_type": "markdown",
      "metadata": {
        "id": "ACbue9VD4Ib-",
        "colab_type": "text"
      },
      "source": [
        "**Pré processamento**"
      ]
    },
    {
      "cell_type": "code",
      "metadata": {
        "id": "iCzcJ_w856Bm",
        "colab_type": "code",
        "colab": {}
      },
      "source": [
        "import numpy as np\n",
        "import pandas as pd\n",
        "import matplotlib.pyplot as plt\n",
        "\n",
        "df = pd.read_csv('/content/projeto-de-mineracao-20192-rockboyz/questions.csv')\n",
        "\n"
      ],
      "execution_count": 0,
      "outputs": []
    },
    {
      "cell_type": "code",
      "metadata": {
        "id": "hWe5vmVR_xl0",
        "colab_type": "code",
        "colab": {}
      },
      "source": [
        "ans = df[df[\"Answer\"]]\n",
        "df[\"Awsner Text\"] = pd.Series(np.diag(ans))\n",
        "\n",
        "\n",
        "df[\"Correct\"] = df[\"Question\"].replace(r'_', df[\"Awsner Text\"], regex=True)\n",
        "list(df[\"Correct\"])"
      ],
      "execution_count": 0,
      "outputs": []
    },
    {
      "cell_type": "code",
      "metadata": {
        "id": "UFqeFZHeEAac",
        "colab_type": "code",
        "colab": {}
      },
      "source": [
        "df_clean = pd.DataFrame({'clean': df['Correct']})\n",
        "lines = [row.split(' ') for row in df_clean['clean']]\n",
        "lines"
      ],
      "execution_count": 0,
      "outputs": []
    },
    {
      "cell_type": "code",
      "metadata": {
        "id": "M-zebRoKDAaD",
        "colab_type": "code",
        "colab": {
          "base_uri": "https://localhost:8080/",
          "height": 1000
        },
        "outputId": "053742b7-6671-45cd-da5e-f1e03aba0e19"
      },
      "source": [
        "#importing the glove library\n",
        "from glove import Corpus, Glove\n",
        "\n",
        "# creating a corpus object\n",
        "corpus = Corpus()\n",
        "\n",
        "#training the corpus to generate the co occurence matrix which is used in GloVe\n",
        "corpus.fit(lines, window=10)\n",
        "\n",
        "#creating a Glove object which will use the matrix created in the above lines to create embeddings\n",
        "glove = Glove(no_components=180, learning_rate=0.05)\n",
        "\n",
        "glove.fit(corpus.matrix, epochs=180, no_threads=4, verbose=True)\n",
        "glove.add_dictionary(corpus.dictionary)\n",
        "glove.save('glove.model')"
      ],
      "execution_count": 26,
      "outputs": [
        {
          "output_type": "stream",
          "text": [
            "Performing 180 training epochs with 4 threads\n",
            "Epoch 0\n",
            "Epoch 1\n",
            "Epoch 2\n",
            "Epoch 3\n",
            "Epoch 4\n",
            "Epoch 5\n",
            "Epoch 6\n",
            "Epoch 7\n",
            "Epoch 8\n",
            "Epoch 9\n",
            "Epoch 10\n",
            "Epoch 11\n",
            "Epoch 12\n",
            "Epoch 13\n",
            "Epoch 14\n",
            "Epoch 15\n",
            "Epoch 16\n",
            "Epoch 17\n",
            "Epoch 18\n",
            "Epoch 19\n",
            "Epoch 20\n",
            "Epoch 21\n",
            "Epoch 22\n",
            "Epoch 23\n",
            "Epoch 24\n",
            "Epoch 25\n",
            "Epoch 26\n",
            "Epoch 27\n",
            "Epoch 28\n",
            "Epoch 29\n",
            "Epoch 30\n",
            "Epoch 31\n",
            "Epoch 32\n",
            "Epoch 33\n",
            "Epoch 34\n",
            "Epoch 35\n",
            "Epoch 36\n",
            "Epoch 37\n",
            "Epoch 38\n",
            "Epoch 39\n",
            "Epoch 40\n",
            "Epoch 41\n",
            "Epoch 42\n",
            "Epoch 43\n",
            "Epoch 44\n",
            "Epoch 45\n",
            "Epoch 46\n",
            "Epoch 47\n",
            "Epoch 48\n",
            "Epoch 49\n",
            "Epoch 50\n",
            "Epoch 51\n",
            "Epoch 52\n",
            "Epoch 53\n",
            "Epoch 54\n",
            "Epoch 55\n",
            "Epoch 56\n",
            "Epoch 57\n",
            "Epoch 58\n",
            "Epoch 59\n",
            "Epoch 60\n",
            "Epoch 61\n",
            "Epoch 62\n",
            "Epoch 63\n",
            "Epoch 64\n",
            "Epoch 65\n",
            "Epoch 66\n",
            "Epoch 67\n",
            "Epoch 68\n",
            "Epoch 69\n",
            "Epoch 70\n",
            "Epoch 71\n",
            "Epoch 72\n",
            "Epoch 73\n",
            "Epoch 74\n",
            "Epoch 75\n",
            "Epoch 76\n",
            "Epoch 77\n",
            "Epoch 78\n",
            "Epoch 79\n",
            "Epoch 80\n",
            "Epoch 81\n",
            "Epoch 82\n",
            "Epoch 83\n",
            "Epoch 84\n",
            "Epoch 85\n",
            "Epoch 86\n",
            "Epoch 87\n",
            "Epoch 88\n",
            "Epoch 89\n",
            "Epoch 90\n",
            "Epoch 91\n",
            "Epoch 92\n",
            "Epoch 93\n",
            "Epoch 94\n",
            "Epoch 95\n",
            "Epoch 96\n",
            "Epoch 97\n",
            "Epoch 98\n",
            "Epoch 99\n",
            "Epoch 100\n",
            "Epoch 101\n",
            "Epoch 102\n",
            "Epoch 103\n",
            "Epoch 104\n",
            "Epoch 105\n",
            "Epoch 106\n",
            "Epoch 107\n",
            "Epoch 108\n",
            "Epoch 109\n",
            "Epoch 110\n",
            "Epoch 111\n",
            "Epoch 112\n",
            "Epoch 113\n",
            "Epoch 114\n",
            "Epoch 115\n",
            "Epoch 116\n",
            "Epoch 117\n",
            "Epoch 118\n",
            "Epoch 119\n",
            "Epoch 120\n",
            "Epoch 121\n",
            "Epoch 122\n",
            "Epoch 123\n",
            "Epoch 124\n",
            "Epoch 125\n",
            "Epoch 126\n",
            "Epoch 127\n",
            "Epoch 128\n",
            "Epoch 129\n",
            "Epoch 130\n",
            "Epoch 131\n",
            "Epoch 132\n",
            "Epoch 133\n",
            "Epoch 134\n",
            "Epoch 135\n",
            "Epoch 136\n",
            "Epoch 137\n",
            "Epoch 138\n",
            "Epoch 139\n",
            "Epoch 140\n",
            "Epoch 141\n",
            "Epoch 142\n",
            "Epoch 143\n",
            "Epoch 144\n",
            "Epoch 145\n",
            "Epoch 146\n",
            "Epoch 147\n",
            "Epoch 148\n",
            "Epoch 149\n",
            "Epoch 150\n",
            "Epoch 151\n",
            "Epoch 152\n",
            "Epoch 153\n",
            "Epoch 154\n",
            "Epoch 155\n",
            "Epoch 156\n",
            "Epoch 157\n",
            "Epoch 158\n",
            "Epoch 159\n",
            "Epoch 160\n",
            "Epoch 161\n",
            "Epoch 162\n",
            "Epoch 163\n",
            "Epoch 164\n",
            "Epoch 165\n",
            "Epoch 166\n",
            "Epoch 167\n",
            "Epoch 168\n",
            "Epoch 169\n",
            "Epoch 170\n",
            "Epoch 171\n",
            "Epoch 172\n",
            "Epoch 173\n",
            "Epoch 174\n",
            "Epoch 175\n",
            "Epoch 176\n",
            "Epoch 177\n",
            "Epoch 178\n",
            "Epoch 179\n"
          ],
          "name": "stdout"
        }
      ]
    },
    {
      "cell_type": "code",
      "metadata": {
        "id": "Hy1_Jq51OTv4",
        "colab_type": "code",
        "colab": {}
      },
      "source": [
        "glove.add_dictionary(corpus.dictionary)\n"
      ],
      "execution_count": 0,
      "outputs": []
    },
    {
      "cell_type": "code",
      "metadata": {
        "id": "aqP6uf5DOgdh",
        "colab_type": "code",
        "colab": {
          "base_uri": "https://localhost:8080/",
          "height": 85
        },
        "outputId": "ff0c4bce-c9e0-4623-eb5b-da969b7896be"
      },
      "source": [
        "glove.most_similar('hard')"
      ],
      "execution_count": 48,
      "outputs": [
        {
          "output_type": "execute_result",
          "data": {
            "text/plain": [
              "[('when', 0.9797373578982375),\n",
              " ('difficult', 0.9744738162040573),\n",
              " ('how', 0.9741740632797317),\n",
              " ('would', 0.9739030896745866)]"
            ]
          },
          "metadata": {
            "tags": []
          },
          "execution_count": 48
        }
      ]
    }
  ]
}