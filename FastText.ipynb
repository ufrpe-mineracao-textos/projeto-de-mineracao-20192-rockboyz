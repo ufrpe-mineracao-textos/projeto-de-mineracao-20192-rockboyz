{
  "nbformat": 4,
  "nbformat_minor": 0,
  "metadata": {
    "colab": {
      "name": "FastText.ipynb",
      "provenance": []
    },
    "kernelspec": {
      "name": "python3",
      "display_name": "Python 3"
    }
  },
  "cells": [
    {
      "cell_type": "code",
      "metadata": {
        "id": "yI5CUf_SJGm7",
        "colab_type": "code",
        "colab": {}
      },
      "source": [
        "!git clone https://github.com/ufrpe-mineracao-textos/projeto-de-mineracao-20192-rockboyz.git\n",
        "!cd /content/projeto-de-mineracao-20192-rockboyz && git pull\n",
        "!pip install --upgrade gensim\n",
        "!wget https://github.com/facebookresearch/fastText/archive/0.2.0.zip\n",
        "!unzip 0.2.0.zip\n",
        "%cd fastText-0.2.0\n",
        "!make"
      ],
      "execution_count": 0,
      "outputs": []
    },
    {
      "cell_type": "code",
      "metadata": {
        "id": "Y7YoD79UJRa2",
        "colab_type": "code",
        "colab": {}
      },
      "source": [
        "import numpy as np\n",
        "import pandas as pd\n",
        "import matplotlib.pyplot as plt\n",
        "\n",
        "df = pd.read_csv('/content/projeto-de-mineracao-20192-rockboyz/questions.csv')\n",
        "\n",
        "df"
      ],
      "execution_count": 0,
      "outputs": []
    },
    {
      "cell_type": "code",
      "metadata": {
        "id": "REHv953LJTuO",
        "colab_type": "code",
        "colab": {}
      },
      "source": [
        "ans = df[df[\"Answer\"]]\n",
        "df[\"Awsner Text\"] = pd.Series(np.diag(ans))\n",
        "\n",
        "\n",
        "df[\"Correct\"] = df[\"Question\"].replace(r'_', df[\"Awsner Text\"], regex=True)\n",
        "list(df[\"Correct\"])\n"
      ],
      "execution_count": 0,
      "outputs": []
    },
    {
      "cell_type": "code",
      "metadata": {
        "id": "KXhrypSTJVJr",
        "colab_type": "code",
        "colab": {}
      },
      "source": [
        "df_clean = pd.DataFrame({'clean': df['Correct']})\n",
        "sent = [row.split(' ') for row in df_clean['clean']]\n",
        "sent\n"
      ],
      "execution_count": 0,
      "outputs": []
    },
    {
      "cell_type": "code",
      "metadata": {
        "id": "sVntjACXJVt8",
        "colab_type": "code",
        "colab": {}
      },
      "source": [
        "from gensim.models.fasttext import FastText\n",
        "model = FastText(sent, min_count=1,size= 50,workers=3, window =3, sg = 0)\n"
      ],
      "execution_count": 0,
      "outputs": []
    },
    {
      "cell_type": "code",
      "metadata": {
        "id": "jWKnleimKJq0",
        "colab_type": "code",
        "colab": {
          "base_uri": "https://localhost:8080/",
          "height": 54
        },
        "outputId": "35a794ef-1e55-436b-9c6d-49f6314dfc0d"
      },
      "source": [
        "print(model.wv.most_similar(\"The newspaper editor received public opprobrium for publishing a graphic account of the politician's sexual harassment scandal; however, in the editor's defense, she knew the public would want to know every detail _ of the case.\".split(' ')))\n"
      ],
      "execution_count": 16,
      "outputs": [
        {
          "output_type": "stream",
          "text": [
            "[('catering', 0.6554188132286072), ('entering', 0.6168366074562073), ('Center', 0.5597512125968933), ('indicated', 0.5577707886695862), ('occasionally', 0.5545063614845276), ('concentrated', 0.5483635067939758), ('prevented', 0.5420198440551758), ('donated', 0.5347844362258911), ('red', 0.5344460010528564), ('creation', 0.5326892733573914)]\n"
          ],
          "name": "stdout"
        }
      ]
    }
  ]
}